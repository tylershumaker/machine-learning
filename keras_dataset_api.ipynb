{
  "nbformat": 4,
  "nbformat_minor": 0,
  "metadata": {
    "colab": {
      "name": "keras_dataset_api.ipynb",
      "version": "0.3.2",
      "provenance": [],
      "collapsed_sections": [],
      "include_colab_link": true
    },
    "kernelspec": {
      "name": "python3",
      "display_name": "Python 3"
    }
  },
  "cells": [
    {
      "cell_type": "markdown",
      "metadata": {
        "id": "view-in-github",
        "colab_type": "text"
      },
      "source": [
        "<a href=\"https://colab.research.google.com/github/tylershumaker/machine-learning/blob/master/keras_dataset_api.ipynb\" target=\"_parent\"><img src=\"https://colab.research.google.com/assets/colab-badge.svg\" alt=\"Open In Colab\"/></a>"
      ]
    },
    {
      "cell_type": "code",
      "metadata": {
        "id": "2FrMLrla7IIu",
        "colab_type": "code",
        "outputId": "e4f13463-0de3-4085-deb4-afe7cd203c62",
        "colab": {
          "base_uri": "https://localhost:8080/",
          "height": 294
        }
      },
      "source": [
        "!pip install tensorflow==1.9.0\n",
        "#!#p#ip install tensorflow-gpu==1.9.0\n",
        "import tensorflow as tf \n",
        "print(tf.__version__)\n"
      ],
      "execution_count": 0,
      "outputs": [
        {
          "output_type": "stream",
          "text": [
            "Requirement already satisfied: tensorflow==1.9.0 in /usr/local/lib/python3.6/dist-packages (1.9.0)\n",
            "Requirement already satisfied: astor>=0.6.0 in /usr/local/lib/python3.6/dist-packages (from tensorflow==1.9.0) (0.7.1)\n",
            "Requirement already satisfied: protobuf>=3.4.0 in /usr/local/lib/python3.6/dist-packages (from tensorflow==1.9.0) (3.7.1)\n",
            "Requirement already satisfied: grpcio>=1.8.6 in /usr/local/lib/python3.6/dist-packages (from tensorflow==1.9.0) (1.15.0)\n",
            "Requirement already satisfied: termcolor>=1.1.0 in /usr/local/lib/python3.6/dist-packages (from tensorflow==1.9.0) (1.1.0)\n",
            "Requirement already satisfied: wheel>=0.26 in /usr/local/lib/python3.6/dist-packages (from tensorflow==1.9.0) (0.33.4)\n",
            "Requirement already satisfied: numpy>=1.13.3 in /usr/local/lib/python3.6/dist-packages (from tensorflow==1.9.0) (1.16.3)\n",
            "Requirement already satisfied: setuptools<=39.1.0 in /usr/local/lib/python3.6/dist-packages (from tensorflow==1.9.0) (39.1.0)\n",
            "Requirement already satisfied: tensorboard<1.10.0,>=1.9.0 in /usr/local/lib/python3.6/dist-packages (from tensorflow==1.9.0) (1.9.0)\n",
            "Requirement already satisfied: absl-py>=0.1.6 in /usr/local/lib/python3.6/dist-packages (from tensorflow==1.9.0) (0.7.1)\n",
            "Requirement already satisfied: gast>=0.2.0 in /usr/local/lib/python3.6/dist-packages (from tensorflow==1.9.0) (0.2.2)\n",
            "Requirement already satisfied: six>=1.10.0 in /usr/local/lib/python3.6/dist-packages (from tensorflow==1.9.0) (1.12.0)\n",
            "Requirement already satisfied: markdown>=2.6.8 in /usr/local/lib/python3.6/dist-packages (from tensorboard<1.10.0,>=1.9.0->tensorflow==1.9.0) (3.1)\n",
            "Requirement already satisfied: werkzeug>=0.11.10 in /usr/local/lib/python3.6/dist-packages (from tensorboard<1.10.0,>=1.9.0->tensorflow==1.9.0) (0.15.2)\n",
            "1.9.0\n"
          ],
          "name": "stdout"
        }
      ]
    },
    {
      "cell_type": "code",
      "metadata": {
        "id": "Ry3953eP7KVC",
        "colab_type": "code",
        "colab": {}
      },
      "source": [
        "\"\"\"An example of how to use tf.Dataset in Keras Model\"\"\"\n",
        "  # only work from tensorflow==1.9.0-rc1 and after\n",
        " \n",
        "_EPOCHS      = 5\n",
        "_NUM_CLASSES = 10\n",
        "_BATCH_SIZE  = 128\n",
        "\n",
        "def training_pipeline():\n",
        "  # #############\n",
        "  # Load Dataset\n",
        "  # #############\n",
        "  (x_train, y_train), (x_test, y_test) = tf.keras.datasets.mnist.load_data()\n",
        "  training_set = tfdata_generator(x_train, y_train, is_training=True, batch_size=_BATCH_SIZE)\n",
        "  testing_set  = tfdata_generator(x_test, y_test, is_training=False, batch_size=_BATCH_SIZE)\n",
        "\n",
        "  # #############\n",
        "  # Train Model\n",
        "  # #############\n",
        "  model = keras_model()  # your keras model here\n",
        "  model.compile('adam', 'categorical_crossentropy', metrics=['acc'])\n",
        "  model.fit(\n",
        "      training_set.make_one_shot_iterator(),\n",
        "      steps_per_epoch=len(x_train) // _BATCH_SIZE,\n",
        "      epochs=_EPOCHS,\n",
        "      validation_data=testing_set.make_one_shot_iterator(),\n",
        "      validation_steps=len(x_test) // _BATCH_SIZE,\n",
        "      verbose = 1)\n",
        "\n",
        "\n",
        "def tfdata_generator(images, labels, is_training, batch_size=128):\n",
        "    '''Construct a data generator using tf.Dataset'''\n",
        "\n",
        "    def preprocess_fn(image, label):\n",
        "        '''A transformation function to preprocess raw data\n",
        "        into trainable input. '''\n",
        "        x = tf.reshape(tf.cast(image, tf.float32), (28, 28, 1))\n",
        "        y = tf.one_hot(tf.cast(label, tf.uint8), _NUM_CLASSES)\n",
        "        return x, y\n",
        "\n",
        "    dataset = tf.data.Dataset.from_tensor_slices((images, labels))\n",
        "    if is_training:\n",
        "        dataset = dataset.shuffle(1000)  # depends on sample size\n",
        "\n",
        "    # Transform and batch data at the same time\n",
        "    dataset = dataset.apply(tf.contrib.data.map_and_batch(\n",
        "        preprocess_fn, batch_size,\n",
        "        num_parallel_batches=4,  # cpu cores\n",
        "        drop_remainder=True if is_training else False))\n",
        "    dataset = dataset.repeat()\n",
        "    dataset = dataset.prefetch(tf.contrib.data.AUTOTUNE)\n",
        "\n",
        "    return dataset\n",
        "\n",
        "\n",
        "\n",
        "def keras_model():\n",
        "    from tensorflow.keras.layers import Conv2D, MaxPool2D, Flatten, Dense, Dropout, Input\n",
        "\n",
        "    inputs = Input(shape=(28, 28, 1))\n",
        "    x = Conv2D(32, (3, 3),activation='relu', padding='valid')(inputs)\n",
        "    x = MaxPool2D(pool_size=(2, 2))(x)\n",
        "    x = Conv2D(64, (3, 3), activation='relu')(x)\n",
        "    x = MaxPool2D(pool_size=(2, 2))(x)\n",
        "    x = Flatten()(x)\n",
        "    x = Dense(512, activation='relu')(x)\n",
        "    x = Dropout(0.5)(x)\n",
        "    outputs = Dense(_NUM_CLASSES, activation='softmax')(x)\n",
        "\n",
        "    return tf.keras.Model(inputs, outputs)\n"
      ],
      "execution_count": 0,
      "outputs": []
    },
    {
      "cell_type": "code",
      "metadata": {
        "id": "ZRRSVqiw7jJv",
        "colab_type": "code",
        "outputId": "914f6cb4-681e-43db-ce10-7ff0b75fdcbc",
        "colab": {
          "base_uri": "https://localhost:8080/",
          "height": 208
        }
      },
      "source": [
        "  training_pipeline()"
      ],
      "execution_count": 0,
      "outputs": [
        {
          "output_type": "stream",
          "text": [
            "Epoch 1/5\n",
            "468/468 [==============================] - 91s 194ms/step - loss: 7.9424 - acc: 0.4945 - val_loss: 0.2109 - val_acc: 0.9465\n",
            "Epoch 2/5\n",
            "468/468 [==============================] - 88s 189ms/step - loss: 0.1355 - acc: 0.9604 - val_loss: 0.0526 - val_acc: 0.9841\n",
            "Epoch 3/5\n",
            "468/468 [==============================] - 89s 190ms/step - loss: 0.0624 - acc: 0.9816 - val_loss: 0.0448 - val_acc: 0.9857\n",
            "Epoch 4/5\n",
            "468/468 [==============================] - 88s 189ms/step - loss: 0.0465 - acc: 0.9851 - val_loss: 0.0380 - val_acc: 0.9877\n",
            "Epoch 5/5\n",
            "468/468 [==============================] - 88s 188ms/step - loss: 0.0357 - acc: 0.9887 - val_loss: 0.0462 - val_acc: 0.9876\n"
          ],
          "name": "stdout"
        }
      ]
    }
  ]
}